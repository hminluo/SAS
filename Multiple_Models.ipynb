{
 "cells": [
  {
   "cell_type": "markdown",
   "metadata": {},
   "source": [
    "### Building Multiple Models Using Macros in SAS\n",
    "\n",
    "To fit more than one models using PROC LOGISTIC using the variables in a dataset, multiple PROC LOGISTIC statements are usually written. Here, two macros are written to run PROC LOGISTIC n times in a loop, where n is the length of a list of predictor variables of interest. The same technique can be applied to PROC REG or other procedures that only accept one MODEL statement within the procedure. \n",
    "\n",
    "A partition of a dataset, where the response variable y has binary outcome, is used to demonstrate the macros. Quantitative and qualitative variables are both presented in the dataset. "
   ]
  },
  {
   "cell_type": "code",
   "execution_count": null,
   "metadata": {},
   "outputs": [],
   "source": [
    "*example dataset, response variable is y; \n",
    "data t;\n",
    "infile datalines  delimiter =',';\n",
    "input y  x1$ x2 x3$ x4$ x5 x6 x7$;\n",
    "id = _N_;\n",
    "\n",
    "datalines;\n",
    "1,1,18,4,2,1049,21,1\n",
    "1,1,9,4,0,2799,36,1\n",
    "1,2,12,2,9,841,23,1\n",
    "1,1,12,4,0,2122,39,2\n",
    "1,2,24,2,3,3758,23,1\n",
    "1,1,11,4,0,3905,36,1\n",
    "1,1,30,4,1,6187,24,1\n",
    "1,1,6,4,3,1957,31,1\n",
    "1,2,48,3,10,7582,31,1\n",
    "1,1,18,2,3,1936,23,1\n",
    "1,1,6,2,3,2647,44,1\n",
    "0,1,11,4,0,3939,40,1\n",
    "0,2,18,2,3,3213,25,1\n",
    "1,2,36,4,3,2337,36,1\n",
    "0,4,11,4,0,7228,39,1\n",
    "0,1,6,4,0,3676,37,1\n",
    ";\n"
   ]
  },
  {
   "cell_type": "markdown",
   "metadata": {},
   "source": [
    "The syntax and technique for fitting a logistic model with quantitative and qualitative variables is similar. When the qualitative variables are coded by numbers, it's necessary to use a CLASS statement to ensure that the variable is interpreted as characters. \n",
    "\n",
    "In the macro, logistic_quan or logistic_qual, a list of n variables of interest is parsed in the macro, its length is obtained using system function countw(). A do loop is run n times, with iteractor ii, which is incremented 1 unit at the end of each loop. The ii-th variable in the list is located using scan(list, index, type), and it's used as the predictor variable in PROC LOGISTIC. "
   ]
  },
  {
   "cell_type": "code",
   "execution_count": null,
   "metadata": {},
   "outputs": [],
   "source": [
    "*list of quantitative variables;\n",
    "%let quan_vars = x2 x5 x6;\n",
    "\n",
    "*list of qualitative variables;\n",
    "%let qual_vars = x1 x3 x4 x7;\n",
    "\n",
    "*logistic model with quantitative variables;\n",
    "%macro logistic_quan();\n",
    "    %let n_quan= %sysfunc(countw(&quan_vars));\n",
    "    %do ii=1 %to &n_quan;\n",
    "        %let var = %scan(&quan_vars, &ii, %str( ));\n",
    "        proc logistic data=t;\n",
    "            model y(event='1')= &var; \n",
    "        run;\n",
    "    %end;\n",
    "%mend logistic_quan;\n",
    "\n",
    "*logistic model with qualitaive variables;\n",
    "%macro logistic_qual();\n",
    "    %let n_qual = %sysfunc(countw(&qual_vars));\n",
    "    %do ii=1 %to &n_qual;\n",
    "        %let var = %scan(&qual_vars, &ii, %str( ));\n",
    "        proc logistic data=t;\n",
    "            class &var(param=ref ref=first);\n",
    "            model y(event='1')=&var;\n",
    "        run;\n",
    "    %end\n",
    "%mend logistic_qual;"
   ]
  },
  {
   "cell_type": "code",
   "execution_count": null,
   "metadata": {},
   "outputs": [],
   "source": [
    "*calling logistic_quan;\n",
    "%logistic_quan;\n",
    "\n",
    "*calling logistic_qual;\n",
    "%logistic_qual"
   ]
  },
  {
   "cell_type": "markdown",
   "metadata": {},
   "source": [
    "The macros above output the default from PROC LOGISTIC. Additional testings can be added in the PROC LOGISTIC portion of the code. \n",
    "\n",
    "The data for each model could be saved, and combined into one dataset as shown below. The first proc logistic model is run, and the results from the test of interest (in this case, the global test) is saved in dataset globaltest_all. A column called 'x' that records the name of the predictor variable is added to the dataset in the proceeding DATA step. This similar process is repeated inside the macro: 1)run PROC LOGISTIC, save test result 2)add variable name to 'x' column 3)append dataset to a main dataset.  "
   ]
  },
  {
   "cell_type": "code",
   "execution_count": null,
   "metadata": {},
   "outputs": [],
   "source": [
    "\n",
    "proc logistic data=t1 outest=out;\n",
    "\tclass x1(param=ref ref=first);\n",
    "\tmodel y(event='1')=x1;\n",
    "\tods output GlobalTests=globaltest_all;\n",
    "run;\n",
    "\n",
    "data globaltest_all;\n",
    "\tset globaltest_all;\n",
    "\tlength x $ 3;\n",
    "\tx='x1';\n",
    "run;\n",
    "\n",
    "%macro logistic_qual_out();\n",
    "    %let n= %sysfunc(countw(&qual_vars));\n",
    "\t%do ii=1 %to &n;\n",
    "\t\t%let var = %scan(&qual_vars, &ii, %str( ));\n",
    "\t\tproc logistic data=t1;\n",
    "\t \t\tclass &var(param=ref ref=first); \n",
    "\t\t\tmodel y(event='1')=&var;\n",
    "\t\t\tods output GlobalTests=globaltest&ii;\n",
    "\t\trun;\n",
    "\t\tdata globaltest&ii;\n",
    "\t\t\tset globaltest&ii;\n",
    "\t\t\tx= \"&var\";\n",
    "\t\trun;\n",
    "\t\tdata globaltest_all;\n",
    "\t\t\tset globaltest_all globaltest&ii;\n",
    "\t\trun;\n",
    "\t%end;\n",
    "%mend logistic_qual_out;"
   ]
  }
 ],
 "metadata": {
  "kernelspec": {
   "display_name": "SAS",
   "language": "sas",
   "name": "sas"
  },
  "language_info": {
   "codemirror_mode": "sas",
   "file_extension": ".sas",
   "mimetype": "text/x-sas",
   "name": "sas"
  }
 },
 "nbformat": 4,
 "nbformat_minor": 2
}
